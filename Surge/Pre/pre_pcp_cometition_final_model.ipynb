{
 "cells": [
  {
   "cell_type": "markdown",
   "metadata": {},
   "source": [
    "##### Import primary libraries"
   ]
  },
  {
   "cell_type": "code",
   "execution_count": 109,
   "metadata": {},
   "outputs": [],
   "source": [
    "# import primary libraries\n",
    "import pandas as pd\n",
    "import numpy as np\n",
    "import scipy as sp\n",
    "from scipy import stats\n",
    "import sklearn as sk\n",
    "import matplotlib\n",
    "import matplotlib.pyplot as plt\n",
    "import seaborn as sb\n",
    "import statsmodels as sm"
   ]
  },
  {
   "cell_type": "code",
   "execution_count": 110,
   "metadata": {},
   "outputs": [],
   "source": [
    "%matplotlib inline\n",
    "matplotlib.style.use('ggplot')\n",
    "plt.rcParams[\"figure.figsize\"] = (16,12)"
   ]
  },
  {
   "cell_type": "markdown",
   "metadata": {},
   "source": [
    "##### Read both training and scoring datasets"
   ]
  },
  {
   "cell_type": "code",
   "execution_count": 111,
   "metadata": {},
   "outputs": [
    {
     "name": "stdout",
     "output_type": "stream",
     "text": [
      "Training Data Matrix:  166573  x  14\n",
      "Index(['testindex', 'outcome', 'distance', 'visit_count', 'claims_daysaway',\n",
      "       'tier', 'fqhc', 'pcp_lookback', 'family_assignment', 'kid', 'is_ped',\n",
      "       'same_gender', 'same_language', 'same_address'],\n",
      "      dtype='object')\n",
      "Scoring Data Matrix:  71388  x  13\n",
      "Index(['testindex', 'distance', 'visit_count', 'claims_daysaway', 'tier',\n",
      "       'fqhc', 'pcp_lookback', 'family_assignment', 'kid', 'is_ped',\n",
      "       'same_gender', 'same_language', 'same_address'],\n",
      "      dtype='object')\n"
     ]
    }
   ],
   "source": [
    "# read csv datafile\n",
    "dft = pd.read_csv(\"trainingData.csv\")\n",
    "dfs = pd.read_csv(\"scoringData.csv\")\n",
    "\n",
    "# check dimensions and column names\n",
    "print(\"Training Data Matrix: \", len(dft.index), \" x \", len(dft.columns))\n",
    "print(dft.columns)\n",
    "\n",
    "print(\"Scoring Data Matrix: \", len(dfs.index), \" x \", len(dfs.columns))\n",
    "print(dfs.columns)"
   ]
  },
  {
   "cell_type": "code",
   "execution_count": 112,
   "metadata": {},
   "outputs": [
    {
     "data": {
      "text/plain": [
       "testindex              int64\n",
       "outcome                int64\n",
       "distance             float64\n",
       "visit_count            int64\n",
       "claims_daysaway      float64\n",
       "tier                 float64\n",
       "fqhc                   int64\n",
       "pcp_lookback           int64\n",
       "family_assignment      int64\n",
       "kid                    int64\n",
       "is_ped                 int64\n",
       "same_gender            int64\n",
       "same_language          int64\n",
       "same_address           int64\n",
       "dtype: object"
      ]
     },
     "execution_count": 112,
     "metadata": {},
     "output_type": "execute_result"
    }
   ],
   "source": [
    "# check datatypes in training data\n",
    "dft.dtypes"
   ]
  },
  {
   "cell_type": "code",
   "execution_count": 113,
   "metadata": {},
   "outputs": [
    {
     "name": "stdout",
     "output_type": "stream",
     "text": [
      "           testindex        outcome       distance    visit_count  \\\n",
      "count  166573.000000  166573.000000  166573.000000  166573.000000   \n",
      "mean   132132.292076       0.041081       2.818446       1.063732   \n",
      "std     76283.631155       0.198478       5.636061       3.217193   \n",
      "min         0.000000       0.000000       0.000000       0.000000   \n",
      "25%     66079.000000       0.000000       0.474260       0.000000   \n",
      "50%    132165.000000       0.000000       1.065102       0.000000   \n",
      "75%    198149.000000       0.000000       2.227714       0.000000   \n",
      "max    264282.000000       1.000000      50.000000     108.000000   \n",
      "\n",
      "       claims_daysaway           tier           fqhc   pcp_lookback  \\\n",
      "count     29417.000000  166054.000000  166573.000000  166573.000000   \n",
      "mean        140.967434       1.790068       0.187930       0.442449   \n",
      "std         126.741228       0.971943       0.390657       0.496678   \n",
      "min           0.000000       1.000000       0.000000       0.000000   \n",
      "25%          49.000000       1.000000       0.000000       0.000000   \n",
      "50%         105.000000       1.000000       0.000000       0.000000   \n",
      "75%         191.000000       2.000000       0.000000       1.000000   \n",
      "max         749.000000       4.000000       1.000000       1.000000   \n",
      "\n",
      "       family_assignment            kid         is_ped    same_gender  \\\n",
      "count      166573.000000  166573.000000  166573.000000  166573.000000   \n",
      "mean            0.331812       0.373062       0.390003       0.508822   \n",
      "std             0.470865       0.483620       0.487752       0.499924   \n",
      "min             0.000000       0.000000       0.000000       0.000000   \n",
      "25%             0.000000       0.000000       0.000000       0.000000   \n",
      "50%             0.000000       0.000000       0.000000       1.000000   \n",
      "75%             1.000000       1.000000       1.000000       1.000000   \n",
      "max             1.000000       1.000000       1.000000       1.000000   \n",
      "\n",
      "       same_language   same_address  \n",
      "count  166573.000000  166573.000000  \n",
      "mean        0.064884       0.062753  \n",
      "std         0.246323       0.242519  \n",
      "min         0.000000       0.000000  \n",
      "25%         0.000000       0.000000  \n",
      "50%         0.000000       0.000000  \n",
      "75%         0.000000       0.000000  \n",
      "max         1.000000       1.000000  \n"
     ]
    }
   ],
   "source": [
    "# Check summary\n",
    "print(dft.describe())"
   ]
  },
  {
   "cell_type": "code",
   "execution_count": 114,
   "metadata": {},
   "outputs": [],
   "source": [
    "# convert 'tier' to integer \n",
    "# first convert few missing values with 1 (mode)\n",
    "dft['tier'] = dft['tier'].fillna(1).astype(int)\n",
    "\n",
    "# copy the same pre-processing in scoring data\n",
    "dfs['tier'] = dfs['tier'].fillna(1).astype(int)"
   ]
  },
  {
   "cell_type": "code",
   "execution_count": 115,
   "metadata": {},
   "outputs": [
    {
     "data": {
      "image/png": "[encoded data removed]",
      "text/plain": [
       "<matplotlib.figure.Figure at 0x10840208>"
      ]
     },
     "metadata": {
      "needs_background": "light"
     },
     "output_type": "display_data"
    }
   ],
   "source": [
    "# Distribution of target\n",
    "%matplotlib inline\n",
    "dft['outcome'].value_counts()\n",
    "sb.countplot(x='outcome', data=dft, palette='hls')\n",
    "plt.show()\n",
    "# plt.savefig('count_plot')"
   ]
  },
  {
   "cell_type": "code",
   "execution_count": 116,
   "metadata": {},
   "outputs": [
    {
     "name": "stdout",
     "output_type": "stream",
     "text": [
      "percentage of no switch is:  95.8918912428785\n",
      "percentage of switched is:  4.108108757121502\n"
     ]
    }
   ],
   "source": [
    "# Check % distribution\n",
    "count_hd0 = len(dft[dft['outcome']==0])\n",
    "count_hd1 = len(dft[dft['outcome']==1])\n",
    "pct_hd0 = count_hd0/(count_hd0 + count_hd1)\n",
    "print(\"percentage of no switch is: \", pct_hd0 * 100)\n",
    "pct_hd1 = count_hd1/(count_hd0 + count_hd1)\n",
    "print(\"percentage of switched is: \", pct_hd1 * 100)"
   ]
  },
  {
   "cell_type": "code",
   "execution_count": 117,
   "metadata": {},
   "outputs": [
    {
     "data": {
      "image/png": "[encoded data removed]",
      "text/plain": [
       "<matplotlib.figure.Figure at 0x11dfdd30>"
      ]
     },
     "metadata": {
      "needs_background": "light"
     },
     "output_type": "display_data"
    }
   ],
   "source": [
    "# Distribution of categorical variables\n",
    "cat_vars  = ['tier', 'fqhc', 'pcp_lookback', 'family_assignment', 'kid', 'is_ped',\n",
    "       'same_gender', 'same_language', 'same_address']\n",
    "%matplotlib inline\n",
    "plt.rcParams[\"figure.figsize\"] = (16,12)\n",
    "j=1\n",
    "for i in cat_vars:\n",
    "    plt.subplot(3,3,j)\n",
    "    dft[i].value_counts()\n",
    "    ax=sb.countplot(x=i, data=dft, palette='hls')\n",
    "    j=j+1"
   ]
  },
  {
   "cell_type": "code",
   "execution_count": 118,
   "metadata": {},
   "outputs": [
    {
     "data": {
      "image/png": "[encoded data removed]",
      "text/plain": [
       "<matplotlib.figure.Figure at 0x13596588>"
      ]
     },
     "metadata": {
      "needs_background": "light"
     },
     "output_type": "display_data"
    }
   ],
   "source": [
    "# Distribution of categorical variables in scoring data\n",
    "cat_vars  = ['tier', 'fqhc', 'pcp_lookback', 'family_assignment', 'kid', 'is_ped',\n",
    "       'same_gender', 'same_language', 'same_address']\n",
    "%matplotlib inline\n",
    "plt.rcParams[\"figure.figsize\"] = (16,12)\n",
    "j=1\n",
    "for i in cat_vars:\n",
    "    plt.subplot(3,3,j)\n",
    "    dfs[i].value_counts()\n",
    "    ax=sb.countplot(x=i, data=dfs, palette='hls')\n",
    "    j=j+1"
   ]
  },
  {
   "cell_type": "code",
   "execution_count": 119,
   "metadata": {},
   "outputs": [
    {
     "data": {
      "image/png": "[encoded data removed]",
      "text/plain": [
       "<matplotlib.figure.Figure at 0x5e80828>"
      ]
     },
     "metadata": {
      "needs_background": "light"
     },
     "output_type": "display_data"
    }
   ],
   "source": [
    "# Distribution of categorical variables by outcome\n",
    "cat_vars  = ['tier', 'fqhc', 'pcp_lookback', 'family_assignment', 'kid', 'is_ped',\n",
    "       'same_gender', 'same_language', 'same_address']\n",
    "%matplotlib inline\n",
    "plt.rcParams[\"figure.figsize\"] = (16,12)\n",
    "j=1\n",
    "for i in cat_vars:\n",
    "    plt.subplot(3,3,j)\n",
    "    dft[i].value_counts()\n",
    "    ax=sb.countplot(x=i, hue='outcome', data=dft, palette='hls')\n",
    "    j=j+1"
   ]
  },
  {
   "cell_type": "code",
   "execution_count": 120,
   "metadata": {},
   "outputs": [
    {
     "data": {
      "image/png": "[encoded data removed]",
      "text/plain": [
       "<matplotlib.figure.Figure at 0xec44710>"
      ]
     },
     "metadata": {
      "needs_background": "light"
     },
     "output_type": "display_data"
    }
   ],
   "source": [
    "# Histogram of continuous variables\n",
    "cnt_vars = ['distance', 'visit_count']\n",
    "%matplotlib inline\n",
    "plt.rcParams[\"figure.figsize\"] = (16,12)\n",
    "j=1\n",
    "for i in cnt_vars:\n",
    "    ax=plt.subplot(2, 2, j)\n",
    "    ax.hist(dft[i], bins = 50, color = 'orange', edgecolor = 'darkblue')\n",
    "    ax.set_xlabel(i)\n",
    "    j=j+1"
   ]
  },
  {
   "cell_type": "code",
   "execution_count": 121,
   "metadata": {},
   "outputs": [],
   "source": [
    "# truncate the extreme values at the upper end\n",
    "dft.loc[dft[\"distance\"]>=30, \"distance\"]=30\n",
    "dft.loc[dft[\"visit_count\"]>=20, \"visit_count\"]=20"
   ]
  },
  {
   "cell_type": "code",
   "execution_count": 122,
   "metadata": {},
   "outputs": [],
   "source": [
    "# copy the same processing for scoring data\n",
    "dfs.loc[dfs[\"distance\"]>=30, \"distance\"]=30\n",
    "dfs.loc[dfs[\"visit_count\"]>=20, \"visit_count\"]=20"
   ]
  },
  {
   "cell_type": "code",
   "execution_count": 123,
   "metadata": {},
   "outputs": [
    {
     "data": {
      "image/png": "[encoded data removed]",
      "text/plain": [
       "<matplotlib.figure.Figure at 0x151b1278>"
      ]
     },
     "metadata": {
      "needs_background": "light"
     },
     "output_type": "display_data"
    }
   ],
   "source": [
    "# Histogram of continuous variables after truncating\n",
    "cnt_vars = ['distance', 'visit_count']\n",
    "%matplotlib inline\n",
    "plt.rcParams[\"figure.figsize\"] = (16,12)\n",
    "j=1\n",
    "for i in cnt_vars:\n",
    "    ax=plt.subplot(2, 2, j)\n",
    "    ax.hist(dft[i], bins = 10, color = 'skyblue', edgecolor = 'green')\n",
    "    ax.set_xlabel(i)\n",
    "    j=j+1"
   ]
  },
  {
   "cell_type": "code",
   "execution_count": 124,
   "metadata": {},
   "outputs": [
    {
     "data": {
      "image/png": "[encoded data removed]",
      "text/plain": [
       "<matplotlib.figure.Figure at 0x136a70f0>"
      ]
     },
     "metadata": {
      "needs_background": "light"
     },
     "output_type": "display_data"
    }
   ],
   "source": [
    "# Histogram of continuous variables (comparison in scoring data)\n",
    "cnt_vars = ['distance', 'visit_count']\n",
    "%matplotlib inline\n",
    "plt.rcParams[\"figure.figsize\"] = (16,12)\n",
    "j=1\n",
    "for i in cnt_vars:\n",
    "    ax=plt.subplot(2, 2, j)\n",
    "    ax.hist(dfs[i], bins = 10, color = 'skyblue', edgecolor = 'green')\n",
    "    ax.set_xlabel(i)\n",
    "    j=j+1"
   ]
  },
  {
   "cell_type": "code",
   "execution_count": 125,
   "metadata": {},
   "outputs": [
    {
     "data": {
      "image/png": "[encoded data removed]",
      "text/plain": [
       "<matplotlib.figure.Figure at 0x135635c0>"
      ]
     },
     "metadata": {
      "needs_background": "light"
     },
     "output_type": "display_data"
    }
   ],
   "source": [
    "# Boxplot of continuous variables by outcome\n",
    "cnt_vars = ['distance', 'visit_count']\n",
    "%matplotlib inline\n",
    "plt.rcParams[\"figure.figsize\"] = (16,12)\n",
    "j=1\n",
    "for i in cnt_vars:\n",
    "    plt.subplot(2,2,j)\n",
    "    ax = sb.boxplot(x=\"outcome\", y=i, data=dft)\n",
    "    j=j+1"
   ]
  },
  {
   "cell_type": "code",
   "execution_count": 126,
   "metadata": {},
   "outputs": [],
   "source": [
    "# Overlay histograms by outcome\n",
    "dft1 = dft[dft[\"outcome\"]==0]\n",
    "dft2 = dft[dft[\"outcome\"]==1]"
   ]
  },
  {
   "cell_type": "code",
   "execution_count": 127,
   "metadata": {
    "scrolled": true
   },
   "outputs": [
    {
     "data": {
      "image/png": "[encoded data removed]",
      "text/plain": [
       "<matplotlib.figure.Figure at 0x1c089ef0>"
      ]
     },
     "metadata": {
      "needs_background": "light"
     },
     "output_type": "display_data"
    }
   ],
   "source": [
    "j=1\n",
    "for i in cnt_vars:\n",
    "    plt.legend(['No Switch', 'Switched'])\n",
    "    ax=plt.subplot(2, 3, j)\n",
    "    ax.hist(dft1[i], bins = 10, edgecolor='black')\n",
    "    ax.hist(dft2[i], bins = 10, edgecolor='black')\n",
    "    ax.set_xlabel(i)\n",
    "    j=j+1"
   ]
  },
  {
   "cell_type": "markdown",
   "metadata": {},
   "source": [
    "##### correlation analysis"
   ]
  },
  {
   "cell_type": "code",
   "execution_count": 128,
   "metadata": {},
   "outputs": [],
   "source": [
    "corr_list = ['outcome', 'distance', 'visit_count', 'tier', 'fqhc', 'pcp_lookback', 'family_assignment',\n",
    "             'kid', 'is_ped', 'same_gender', 'same_language', 'same_address']"
   ]
  },
  {
   "cell_type": "code",
   "execution_count": 129,
   "metadata": {},
   "outputs": [],
   "source": [
    "# correlationship of each feature with outcome\n",
    "my_list=[]\n",
    "for i in corr_list:\n",
    "    pearson_coef, p_value = stats.pearsonr(dft[i], dft[\"outcome\"])\n",
    "    my_list.append((i, pearson_coef, p_value))\n",
    "#my_list"
   ]
  },
  {
   "cell_type": "code",
   "execution_count": 130,
   "metadata": {
    "scrolled": true
   },
   "outputs": [
    {
     "data": {
      "text/html": [
       "<div>\n",
       "<style>\n",
       "    .dataframe thead tr:only-child th {\n",
       "        text-align: right;\n",
       "    }\n",
       "\n",
       "    .dataframe thead th {\n",
       "        text-align: left;\n",
       "    }\n",
       "\n",
       "    .dataframe tbody tr th {\n",
       "        vertical-align: top;\n",
       "    }\n",
       "</style>\n",
       "<table border=\"1\" class=\"dataframe\">\n",
       "  <thead>\n",
       "    <tr style=\"text-align: right;\">\n",
       "      <th></th>\n",
       "      <th>variable</th>\n",
       "      <th>corr_coef</th>\n",
       "      <th>p-value</th>\n",
       "    </tr>\n",
       "  </thead>\n",
       "  <tbody>\n",
       "    <tr>\n",
       "      <th>0</th>\n",
       "      <td>outcome</td>\n",
       "      <td>1.0000</td>\n",
       "      <td>0.0000</td>\n",
       "    </tr>\n",
       "    <tr>\n",
       "      <th>1</th>\n",
       "      <td>distance</td>\n",
       "      <td>0.1139</td>\n",
       "      <td>0.0000</td>\n",
       "    </tr>\n",
       "    <tr>\n",
       "      <th>2</th>\n",
       "      <td>visit_count</td>\n",
       "      <td>0.0436</td>\n",
       "      <td>0.0000</td>\n",
       "    </tr>\n",
       "    <tr>\n",
       "      <th>3</th>\n",
       "      <td>tier</td>\n",
       "      <td>0.0585</td>\n",
       "      <td>0.0000</td>\n",
       "    </tr>\n",
       "    <tr>\n",
       "      <th>4</th>\n",
       "      <td>fqhc</td>\n",
       "      <td>-0.0485</td>\n",
       "      <td>0.0000</td>\n",
       "    </tr>\n",
       "    <tr>\n",
       "      <th>5</th>\n",
       "      <td>pcp_lookback</td>\n",
       "      <td>-0.0894</td>\n",
       "      <td>0.0000</td>\n",
       "    </tr>\n",
       "    <tr>\n",
       "      <th>6</th>\n",
       "      <td>family_assignment</td>\n",
       "      <td>-0.0009</td>\n",
       "      <td>0.7216</td>\n",
       "    </tr>\n",
       "    <tr>\n",
       "      <th>7</th>\n",
       "      <td>kid</td>\n",
       "      <td>0.0380</td>\n",
       "      <td>0.0000</td>\n",
       "    </tr>\n",
       "    <tr>\n",
       "      <th>8</th>\n",
       "      <td>is_ped</td>\n",
       "      <td>-0.0007</td>\n",
       "      <td>0.7847</td>\n",
       "    </tr>\n",
       "    <tr>\n",
       "      <th>9</th>\n",
       "      <td>same_gender</td>\n",
       "      <td>0.0107</td>\n",
       "      <td>0.0000</td>\n",
       "    </tr>\n",
       "    <tr>\n",
       "      <th>10</th>\n",
       "      <td>same_language</td>\n",
       "      <td>-0.0074</td>\n",
       "      <td>0.0026</td>\n",
       "    </tr>\n",
       "    <tr>\n",
       "      <th>11</th>\n",
       "      <td>same_address</td>\n",
       "      <td>0.0586</td>\n",
       "      <td>0.0000</td>\n",
       "    </tr>\n",
       "  </tbody>\n",
       "</table>\n",
       "</div>"
      ],
      "text/plain": [
       "             variable  corr_coef  p-value\n",
       "0             outcome     1.0000   0.0000\n",
       "1            distance     0.1139   0.0000\n",
       "2         visit_count     0.0436   0.0000\n",
       "3                tier     0.0585   0.0000\n",
       "4                fqhc    -0.0485   0.0000\n",
       "5        pcp_lookback    -0.0894   0.0000\n",
       "6   family_assignment    -0.0009   0.7216\n",
       "7                 kid     0.0380   0.0000\n",
       "8              is_ped    -0.0007   0.7847\n",
       "9         same_gender     0.0107   0.0000\n",
       "10      same_language    -0.0074   0.0026\n",
       "11       same_address     0.0586   0.0000"
      ]
     },
     "execution_count": 130,
     "metadata": {},
     "output_type": "execute_result"
    }
   ],
   "source": [
    "corr_with_num = pd.DataFrame(my_list).round(4)\n",
    "corr_with_num.columns=[\"variable\",\"corr_coef\",\"p-value\"]\n",
    "corr_with_num"
   ]
  },
  {
   "cell_type": "code",
   "execution_count": 131,
   "metadata": {
    "scrolled": true
   },
   "outputs": [],
   "source": [
    "# drop two variables that will not be part of model for matrix\n",
    "dft = dft.drop(['testindex', 'claims_daysaway'], axis=1)"
   ]
  },
  {
   "cell_type": "code",
   "execution_count": 133,
   "metadata": {},
   "outputs": [],
   "source": [
    "# plot scatter matrix\n",
    "#pd.plotting.scatter_matrix(dft, figsize=(16, 16))\n",
    "#plt.show()\n",
    "# alternate method using seaborn pairplot \n",
    "#sb.pairplot(dft)"
   ]
  },
  {
   "cell_type": "code",
   "execution_count": 134,
   "metadata": {},
   "outputs": [
    {
     "data": {
      "text/html": [
       "<div>\n",
       "<style>\n",
       "    .dataframe thead tr:only-child th {\n",
       "        text-align: right;\n",
       "    }\n",
       "\n",
       "    .dataframe thead th {\n",
       "        text-align: left;\n",
       "    }\n",
       "\n",
       "    .dataframe tbody tr th {\n",
       "        vertical-align: top;\n",
       "    }\n",
       "</style>\n",
       "<table border=\"1\" class=\"dataframe\">\n",
       "  <thead>\n",
       "    <tr style=\"text-align: right;\">\n",
       "      <th></th>\n",
       "      <th>outcome</th>\n",
       "      <th>distance</th>\n",
       "      <th>visit_count</th>\n",
       "      <th>tier</th>\n",
       "      <th>fqhc</th>\n",
       "      <th>pcp_lookback</th>\n",
       "      <th>family_assignment</th>\n",
       "      <th>kid</th>\n",
       "      <th>is_ped</th>\n",
       "      <th>same_gender</th>\n",
       "      <th>same_language</th>\n",
       "      <th>same_address</th>\n",
       "    </tr>\n",
       "  </thead>\n",
       "  <tbody>\n",
       "    <tr>\n",
       "      <th>outcome</th>\n",
       "      <td>1.000000</td>\n",
       "      <td>0.113874</td>\n",
       "      <td>0.043647</td>\n",
       "      <td>0.058457</td>\n",
       "      <td>-0.048469</td>\n",
       "      <td>-0.089380</td>\n",
       "      <td>-0.000873</td>\n",
       "      <td>0.038035</td>\n",
       "      <td>-0.000669</td>\n",
       "      <td>0.010657</td>\n",
       "      <td>-0.007368</td>\n",
       "      <td>0.058566</td>\n",
       "    </tr>\n",
       "    <tr>\n",
       "      <th>distance</th>\n",
       "      <td>0.113874</td>\n",
       "      <td>1.000000</td>\n",
       "      <td>0.035436</td>\n",
       "      <td>0.076388</td>\n",
       "      <td>-0.070563</td>\n",
       "      <td>0.187506</td>\n",
       "      <td>0.009528</td>\n",
       "      <td>0.040116</td>\n",
       "      <td>0.018451</td>\n",
       "      <td>0.004520</td>\n",
       "      <td>-0.031380</td>\n",
       "      <td>0.007009</td>\n",
       "    </tr>\n",
       "    <tr>\n",
       "      <th>visit_count</th>\n",
       "      <td>0.043647</td>\n",
       "      <td>0.035436</td>\n",
       "      <td>1.000000</td>\n",
       "      <td>0.066660</td>\n",
       "      <td>-0.106676</td>\n",
       "      <td>0.270817</td>\n",
       "      <td>0.137590</td>\n",
       "      <td>0.101267</td>\n",
       "      <td>0.083761</td>\n",
       "      <td>0.010957</td>\n",
       "      <td>0.023540</td>\n",
       "      <td>0.033715</td>\n",
       "    </tr>\n",
       "    <tr>\n",
       "      <th>tier</th>\n",
       "      <td>0.058457</td>\n",
       "      <td>0.076388</td>\n",
       "      <td>0.066660</td>\n",
       "      <td>1.000000</td>\n",
       "      <td>-0.137823</td>\n",
       "      <td>0.091881</td>\n",
       "      <td>0.034731</td>\n",
       "      <td>0.007764</td>\n",
       "      <td>-0.009985</td>\n",
       "      <td>0.002109</td>\n",
       "      <td>-0.027961</td>\n",
       "      <td>0.031704</td>\n",
       "    </tr>\n",
       "    <tr>\n",
       "      <th>fqhc</th>\n",
       "      <td>-0.048469</td>\n",
       "      <td>-0.070563</td>\n",
       "      <td>-0.106676</td>\n",
       "      <td>-0.137823</td>\n",
       "      <td>1.000000</td>\n",
       "      <td>-0.139276</td>\n",
       "      <td>-0.078721</td>\n",
       "      <td>-0.014119</td>\n",
       "      <td>-0.010859</td>\n",
       "      <td>-0.000989</td>\n",
       "      <td>0.023137</td>\n",
       "      <td>0.011062</td>\n",
       "    </tr>\n",
       "    <tr>\n",
       "      <th>pcp_lookback</th>\n",
       "      <td>-0.089380</td>\n",
       "      <td>0.187506</td>\n",
       "      <td>0.270817</td>\n",
       "      <td>0.091881</td>\n",
       "      <td>-0.139276</td>\n",
       "      <td>1.000000</td>\n",
       "      <td>0.101946</td>\n",
       "      <td>0.091708</td>\n",
       "      <td>0.076544</td>\n",
       "      <td>0.011166</td>\n",
       "      <td>-0.017125</td>\n",
       "      <td>0.091560</td>\n",
       "    </tr>\n",
       "    <tr>\n",
       "      <th>family_assignment</th>\n",
       "      <td>-0.000873</td>\n",
       "      <td>0.009528</td>\n",
       "      <td>0.137590</td>\n",
       "      <td>0.034731</td>\n",
       "      <td>-0.078721</td>\n",
       "      <td>0.101946</td>\n",
       "      <td>1.000000</td>\n",
       "      <td>0.320826</td>\n",
       "      <td>0.306466</td>\n",
       "      <td>-0.003803</td>\n",
       "      <td>0.038860</td>\n",
       "      <td>0.003762</td>\n",
       "    </tr>\n",
       "    <tr>\n",
       "      <th>kid</th>\n",
       "      <td>0.038035</td>\n",
       "      <td>0.040116</td>\n",
       "      <td>0.101267</td>\n",
       "      <td>0.007764</td>\n",
       "      <td>-0.014119</td>\n",
       "      <td>0.091708</td>\n",
       "      <td>0.320826</td>\n",
       "      <td>1.000000</td>\n",
       "      <td>0.879399</td>\n",
       "      <td>-0.003208</td>\n",
       "      <td>0.020811</td>\n",
       "      <td>0.001709</td>\n",
       "    </tr>\n",
       "    <tr>\n",
       "      <th>is_ped</th>\n",
       "      <td>-0.000669</td>\n",
       "      <td>0.018451</td>\n",
       "      <td>0.083761</td>\n",
       "      <td>-0.009985</td>\n",
       "      <td>-0.010859</td>\n",
       "      <td>0.076544</td>\n",
       "      <td>0.306466</td>\n",
       "      <td>0.879399</td>\n",
       "      <td>1.000000</td>\n",
       "      <td>-0.001258</td>\n",
       "      <td>0.026625</td>\n",
       "      <td>-0.008664</td>\n",
       "    </tr>\n",
       "    <tr>\n",
       "      <th>same_gender</th>\n",
       "      <td>0.010657</td>\n",
       "      <td>0.004520</td>\n",
       "      <td>0.010957</td>\n",
       "      <td>0.002109</td>\n",
       "      <td>-0.000989</td>\n",
       "      <td>0.011166</td>\n",
       "      <td>-0.003803</td>\n",
       "      <td>-0.003208</td>\n",
       "      <td>-0.001258</td>\n",
       "      <td>1.000000</td>\n",
       "      <td>0.258806</td>\n",
       "      <td>0.005114</td>\n",
       "    </tr>\n",
       "    <tr>\n",
       "      <th>same_language</th>\n",
       "      <td>-0.007368</td>\n",
       "      <td>-0.031380</td>\n",
       "      <td>0.023540</td>\n",
       "      <td>-0.027961</td>\n",
       "      <td>0.023137</td>\n",
       "      <td>-0.017125</td>\n",
       "      <td>0.038860</td>\n",
       "      <td>0.020811</td>\n",
       "      <td>0.026625</td>\n",
       "      <td>0.258806</td>\n",
       "      <td>1.000000</td>\n",
       "      <td>-0.019420</td>\n",
       "    </tr>\n",
       "    <tr>\n",
       "      <th>same_address</th>\n",
       "      <td>0.058566</td>\n",
       "      <td>0.007009</td>\n",
       "      <td>0.033715</td>\n",
       "      <td>0.031704</td>\n",
       "      <td>0.011062</td>\n",
       "      <td>0.091560</td>\n",
       "      <td>0.003762</td>\n",
       "      <td>0.001709</td>\n",
       "      <td>-0.008664</td>\n",
       "      <td>0.005114</td>\n",
       "      <td>-0.019420</td>\n",
       "      <td>1.000000</td>\n",
       "    </tr>\n",
       "  </tbody>\n",
       "</table>\n",
       "</div>"
      ],
      "text/plain": [
       "                    outcome  distance  visit_count      tier      fqhc  \\\n",
       "outcome            1.000000  0.113874     0.043647  0.058457 -0.048469   \n",
       "distance           0.113874  1.000000     0.035436  0.076388 -0.070563   \n",
       "visit_count        0.043647  0.035436     1.000000  0.066660 -0.106676   \n",
       "tier               0.058457  0.076388     0.066660  1.000000 -0.137823   \n",
       "fqhc              -0.048469 -0.070563    -0.106676 -0.137823  1.000000   \n",
       "pcp_lookback      -0.089380  0.187506     0.270817  0.091881 -0.139276   \n",
       "family_assignment -0.000873  0.009528     0.137590  0.034731 -0.078721   \n",
       "kid                0.038035  0.040116     0.101267  0.007764 -0.014119   \n",
       "is_ped            -0.000669  0.018451     0.083761 -0.009985 -0.010859   \n",
       "same_gender        0.010657  0.004520     0.010957  0.002109 -0.000989   \n",
       "same_language     -0.007368 -0.031380     0.023540 -0.027961  0.023137   \n",
       "same_address       0.058566  0.007009     0.033715  0.031704  0.011062   \n",
       "\n",
       "                   pcp_lookback  family_assignment       kid    is_ped  \\\n",
       "outcome               -0.089380          -0.000873  0.038035 -0.000669   \n",
       "distance               0.187506           0.009528  0.040116  0.018451   \n",
       "visit_count            0.270817           0.137590  0.101267  0.083761   \n",
       "tier                   0.091881           0.034731  0.007764 -0.009985   \n",
       "fqhc                  -0.139276          -0.078721 -0.014119 -0.010859   \n",
       "pcp_lookback           1.000000           0.101946  0.091708  0.076544   \n",
       "family_assignment      0.101946           1.000000  0.320826  0.306466   \n",
       "kid                    0.091708           0.320826  1.000000  0.879399   \n",
       "is_ped                 0.076544           0.306466  0.879399  1.000000   \n",
       "same_gender            0.011166          -0.003803 -0.003208 -0.001258   \n",
       "same_language         -0.017125           0.038860  0.020811  0.026625   \n",
       "same_address           0.091560           0.003762  0.001709 -0.008664   \n",
       "\n",
       "                   same_gender  same_language  same_address  \n",
       "outcome               0.010657      -0.007368      0.058566  \n",
       "distance              0.004520      -0.031380      0.007009  \n",
       "visit_count           0.010957       0.023540      0.033715  \n",
       "tier                  0.002109      -0.027961      0.031704  \n",
       "fqhc                 -0.000989       0.023137      0.011062  \n",
       "pcp_lookback          0.011166      -0.017125      0.091560  \n",
       "family_assignment    -0.003803       0.038860      0.003762  \n",
       "kid                  -0.003208       0.020811      0.001709  \n",
       "is_ped               -0.001258       0.026625     -0.008664  \n",
       "same_gender           1.000000       0.258806      0.005114  \n",
       "same_language         0.258806       1.000000     -0.019420  \n",
       "same_address          0.005114      -0.019420      1.000000  "
      ]
     },
     "execution_count": 134,
     "metadata": {},
     "output_type": "execute_result"
    }
   ],
   "source": [
    "dft.corr()"
   ]
  },
  {
   "cell_type": "code",
   "execution_count": 135,
   "metadata": {},
   "outputs": [
    {
     "data": {
      "text/plain": [
       "<matplotlib.axes._subplots.AxesSubplot at 0x6fcd56a0>"
      ]
     },
     "execution_count": 135,
     "metadata": {},
     "output_type": "execute_result"
    },
    {
     "data": {
      "image/png": "[encoded data removed]",
      "text/plain": [
       "<matplotlib.figure.Figure at 0x6fcdc780>"
      ]
     },
     "metadata": {
      "needs_background": "light"
     },
     "output_type": "display_data"
    }
   ],
   "source": [
    "# Compute the correlation matrix\n",
    "corr = dft.corr()\n",
    "\n",
    "# Generate a mask for the upper triangle\n",
    "mask = np.zeros_like(corr, dtype=np.bool)\n",
    "mask[np.triu_indices_from(mask)] = True\n",
    "\n",
    "# Set up the matplotlib figure\n",
    "f, ax = plt.subplots(figsize=(12,12))\n",
    "\n",
    "# Generate a custom diverging colormap\n",
    "cmap = sb.diverging_palette(220, 10, as_cmap=True)\n",
    "\n",
    "# Draw the heatmap with the mask and correct aspect ratio\n",
    "sb.heatmap(corr, mask=mask, cmap=cmap, vmax=.3, center=0,\n",
    "            square=True, linewidths=.5, cbar_kws={\"shrink\": .75})"
   ]
  },
  {
   "cell_type": "code",
   "execution_count": 136,
   "metadata": {},
   "outputs": [
    {
     "data": {
      "text/html": [
       "<div>\n",
       "<style>\n",
       "    .dataframe thead tr:only-child th {\n",
       "        text-align: right;\n",
       "    }\n",
       "\n",
       "    .dataframe thead th {\n",
       "        text-align: left;\n",
       "    }\n",
       "\n",
       "    .dataframe tbody tr th {\n",
       "        vertical-align: top;\n",
       "    }\n",
       "</style>\n",
       "<table border=\"1\" class=\"dataframe\">\n",
       "  <thead>\n",
       "    <tr style=\"text-align: right;\">\n",
       "      <th></th>\n",
       "      <th>distance</th>\n",
       "      <th>visit_count</th>\n",
       "      <th>tier</th>\n",
       "      <th>fqhc</th>\n",
       "      <th>pcp_lookback</th>\n",
       "      <th>family_assignment</th>\n",
       "      <th>kid</th>\n",
       "      <th>is_ped</th>\n",
       "      <th>same_gender</th>\n",
       "      <th>same_language</th>\n",
       "      <th>same_address</th>\n",
       "    </tr>\n",
       "    <tr>\n",
       "      <th>outcome</th>\n",
       "      <th></th>\n",
       "      <th></th>\n",
       "      <th></th>\n",
       "      <th></th>\n",
       "      <th></th>\n",
       "      <th></th>\n",
       "      <th></th>\n",
       "      <th></th>\n",
       "      <th></th>\n",
       "      <th></th>\n",
       "      <th></th>\n",
       "    </tr>\n",
       "  </thead>\n",
       "  <tbody>\n",
       "    <tr>\n",
       "      <th>0</th>\n",
       "      <td>2.576252</td>\n",
       "      <td>1.002636</td>\n",
       "      <td>1.775853</td>\n",
       "      <td>0.191849</td>\n",
       "      <td>0.451637</td>\n",
       "      <td>0.331898</td>\n",
       "      <td>0.369254</td>\n",
       "      <td>0.390071</td>\n",
       "      <td>0.507719</td>\n",
       "      <td>0.065260</td>\n",
       "      <td>0.059813</td>\n",
       "    </tr>\n",
       "    <tr>\n",
       "      <th>1</th>\n",
       "      <td>5.287255</td>\n",
       "      <td>1.640655</td>\n",
       "      <td>2.061961</td>\n",
       "      <td>0.096449</td>\n",
       "      <td>0.227970</td>\n",
       "      <td>0.329826</td>\n",
       "      <td>0.461932</td>\n",
       "      <td>0.388426</td>\n",
       "      <td>0.534561</td>\n",
       "      <td>0.056116</td>\n",
       "      <td>0.131375</td>\n",
       "    </tr>\n",
       "  </tbody>\n",
       "</table>\n",
       "</div>"
      ],
      "text/plain": [
       "         distance  visit_count      tier      fqhc  pcp_lookback  \\\n",
       "outcome                                                            \n",
       "0        2.576252     1.002636  1.775853  0.191849      0.451637   \n",
       "1        5.287255     1.640655  2.061961  0.096449      0.227970   \n",
       "\n",
       "         family_assignment       kid    is_ped  same_gender  same_language  \\\n",
       "outcome                                                                      \n",
       "0                 0.331898  0.369254  0.390071     0.507719       0.065260   \n",
       "1                 0.329826  0.461932  0.388426     0.534561       0.056116   \n",
       "\n",
       "         same_address  \n",
       "outcome                \n",
       "0            0.059813  \n",
       "1            0.131375  "
      ]
     },
     "execution_count": 136,
     "metadata": {},
     "output_type": "execute_result"
    }
   ],
   "source": [
    "# Mean of input features with respect to target feature\n",
    "dft.groupby('outcome').mean()"
   ]
  },
  {
   "cell_type": "code",
   "execution_count": 137,
   "metadata": {
    "scrolled": true
   },
   "outputs": [
    {
     "data": {
      "text/html": [
       "<div>\n",
       "<style>\n",
       "    .dataframe thead tr:only-child th {\n",
       "        text-align: right;\n",
       "    }\n",
       "\n",
       "    .dataframe thead th {\n",
       "        text-align: left;\n",
       "    }\n",
       "\n",
       "    .dataframe tbody tr th {\n",
       "        vertical-align: top;\n",
       "    }\n",
       "</style>\n",
       "<table border=\"1\" class=\"dataframe\">\n",
       "  <thead>\n",
       "    <tr style=\"text-align: right;\">\n",
       "      <th></th>\n",
       "      <th>distance</th>\n",
       "      <th>visit_count</th>\n",
       "      <th>tier</th>\n",
       "      <th>fqhc</th>\n",
       "      <th>pcp_lookback</th>\n",
       "      <th>family_assignment</th>\n",
       "      <th>kid</th>\n",
       "      <th>is_ped</th>\n",
       "      <th>same_gender</th>\n",
       "      <th>same_language</th>\n",
       "      <th>same_address</th>\n",
       "    </tr>\n",
       "    <tr>\n",
       "      <th>outcome</th>\n",
       "      <th></th>\n",
       "      <th></th>\n",
       "      <th></th>\n",
       "      <th></th>\n",
       "      <th></th>\n",
       "      <th></th>\n",
       "      <th></th>\n",
       "      <th></th>\n",
       "      <th></th>\n",
       "      <th></th>\n",
       "      <th></th>\n",
       "    </tr>\n",
       "  </thead>\n",
       "  <tbody>\n",
       "    <tr>\n",
       "      <th>0</th>\n",
       "      <td>4.569878</td>\n",
       "      <td>2.891115</td>\n",
       "      <td>0.965571</td>\n",
       "      <td>0.393756</td>\n",
       "      <td>0.497657</td>\n",
       "      <td>0.470896</td>\n",
       "      <td>0.482604</td>\n",
       "      <td>0.487767</td>\n",
       "      <td>0.499942</td>\n",
       "      <td>0.246985</td>\n",
       "      <td>0.237142</td>\n",
       "    </tr>\n",
       "    <tr>\n",
       "      <th>1</th>\n",
       "      <td>6.999015</td>\n",
       "      <td>3.067004</td>\n",
       "      <td>1.063033</td>\n",
       "      <td>0.295227</td>\n",
       "      <td>0.419554</td>\n",
       "      <td>0.470184</td>\n",
       "      <td>0.498585</td>\n",
       "      <td>0.487428</td>\n",
       "      <td>0.498841</td>\n",
       "      <td>0.230162</td>\n",
       "      <td>0.337835</td>\n",
       "    </tr>\n",
       "  </tbody>\n",
       "</table>\n",
       "</div>"
      ],
      "text/plain": [
       "         distance  visit_count      tier      fqhc  pcp_lookback  \\\n",
       "outcome                                                            \n",
       "0        4.569878     2.891115  0.965571  0.393756      0.497657   \n",
       "1        6.999015     3.067004  1.063033  0.295227      0.419554   \n",
       "\n",
       "         family_assignment       kid    is_ped  same_gender  same_language  \\\n",
       "outcome                                                                      \n",
       "0                 0.470896  0.482604  0.487767     0.499942       0.246985   \n",
       "1                 0.470184  0.498585  0.487428     0.498841       0.230162   \n",
       "\n",
       "         same_address  \n",
       "outcome                \n",
       "0            0.237142  \n",
       "1            0.337835  "
      ]
     },
     "execution_count": 137,
     "metadata": {},
     "output_type": "execute_result"
    }
   ],
   "source": [
    "dft.groupby('outcome').std()"
   ]
  },
  {
   "cell_type": "code",
   "execution_count": 138,
   "metadata": {},
   "outputs": [],
   "source": [
    "# separate input features and target data\n",
    "Xdft = dft.loc[:, dft.columns != 'outcome']\n",
    "ydft = dft.loc[:, dft.columns == 'outcome']"
   ]
  },
  {
   "cell_type": "code",
   "execution_count": 139,
   "metadata": {},
   "outputs": [
    {
     "name": "stdout",
     "output_type": "stream",
     "text": [
      "[0.74948584 0.07036823 0.02975006 0.00842211 0.05480853 0.01227569\n",
      " 0.02188806 0.02568272 0.01136954 0.00558    0.01036921]\n"
     ]
    }
   ],
   "source": [
    "# Feature Importance using RandomForestClassifier\n",
    "from sklearn import metrics\n",
    "from sklearn.ensemble import RandomForestClassifier\n",
    "#from sklearn.ensemble import ExtraTreesClassifier\n",
    "model = RandomForestClassifier(n_estimators=100)\n",
    "#model = ExtraTreesClassifier()\n",
    "model.fit(Xdft, ydft.values.ravel())\n",
    "print(model.feature_importances_)"
   ]
  },
  {
   "cell_type": "code",
   "execution_count": 140,
   "metadata": {},
   "outputs": [
    {
     "data": {
      "text/plain": [
       "<matplotlib.axes._subplots.AxesSubplot at 0x70618cc0>"
      ]
     },
     "execution_count": 140,
     "metadata": {},
     "output_type": "execute_result"
    },
    {
     "data": {
      "image/png": "[encoded data removed]",
      "text/plain": [
       "<matplotlib.figure.Figure at 0x70599ba8>"
      ]
     },
     "metadata": {
      "needs_background": "light"
     },
     "output_type": "display_data"
    }
   ],
   "source": [
    "# plot the feature importance\n",
    "%matplotlib inline \n",
    "plt.rcParams[\"figure.figsize\"] = (10,6)\n",
    "(pd.Series(model.feature_importances_, index=Xdft.columns)\n",
    "   .nlargest(13)\n",
    "   .plot(kind='barh')) "
   ]
  },
  {
   "cell_type": "markdown",
   "metadata": {},
   "source": [
    "##### create dummy variables"
   ]
  },
  {
   "cell_type": "code",
   "execution_count": 141,
   "metadata": {},
   "outputs": [
    {
     "data": {
      "text/html": [
       "<div>\n",
       "<style>\n",
       "    .dataframe thead tr:only-child th {\n",
       "        text-align: right;\n",
       "    }\n",
       "\n",
       "    .dataframe thead th {\n",
       "        text-align: left;\n",
       "    }\n",
       "\n",
       "    .dataframe tbody tr th {\n",
       "        vertical-align: top;\n",
       "    }\n",
       "</style>\n",
       "<table border=\"1\" class=\"dataframe\">\n",
       "  <thead>\n",
       "    <tr style=\"text-align: right;\">\n",
       "      <th></th>\n",
       "      <th>outcome</th>\n",
       "      <th>distance</th>\n",
       "      <th>visit_count</th>\n",
       "      <th>tier</th>\n",
       "      <th>fqhc</th>\n",
       "      <th>pcp_lookback</th>\n",
       "      <th>family_assignment</th>\n",
       "      <th>kid</th>\n",
       "      <th>is_ped</th>\n",
       "      <th>same_gender</th>\n",
       "      <th>same_language</th>\n",
       "      <th>same_address</th>\n",
       "      <th>tier_1</th>\n",
       "      <th>tier_2</th>\n",
       "      <th>tier_3</th>\n",
       "      <th>tier_4</th>\n",
       "    </tr>\n",
       "  </thead>\n",
       "  <tbody>\n",
       "    <tr>\n",
       "      <th>0</th>\n",
       "      <td>0</td>\n",
       "      <td>0.071912</td>\n",
       "      <td>0</td>\n",
       "      <td>2</td>\n",
       "      <td>0</td>\n",
       "      <td>0</td>\n",
       "      <td>0</td>\n",
       "      <td>0</td>\n",
       "      <td>0</td>\n",
       "      <td>1</td>\n",
       "      <td>0</td>\n",
       "      <td>0</td>\n",
       "      <td>0</td>\n",
       "      <td>1</td>\n",
       "      <td>0</td>\n",
       "      <td>0</td>\n",
       "    </tr>\n",
       "    <tr>\n",
       "      <th>1</th>\n",
       "      <td>0</td>\n",
       "      <td>0.448447</td>\n",
       "      <td>0</td>\n",
       "      <td>1</td>\n",
       "      <td>0</td>\n",
       "      <td>0</td>\n",
       "      <td>1</td>\n",
       "      <td>1</td>\n",
       "      <td>1</td>\n",
       "      <td>0</td>\n",
       "      <td>0</td>\n",
       "      <td>0</td>\n",
       "      <td>1</td>\n",
       "      <td>0</td>\n",
       "      <td>0</td>\n",
       "      <td>0</td>\n",
       "    </tr>\n",
       "    <tr>\n",
       "      <th>2</th>\n",
       "      <td>0</td>\n",
       "      <td>0.345793</td>\n",
       "      <td>0</td>\n",
       "      <td>1</td>\n",
       "      <td>0</td>\n",
       "      <td>1</td>\n",
       "      <td>0</td>\n",
       "      <td>0</td>\n",
       "      <td>0</td>\n",
       "      <td>1</td>\n",
       "      <td>0</td>\n",
       "      <td>0</td>\n",
       "      <td>1</td>\n",
       "      <td>0</td>\n",
       "      <td>0</td>\n",
       "      <td>0</td>\n",
       "    </tr>\n",
       "    <tr>\n",
       "      <th>3</th>\n",
       "      <td>0</td>\n",
       "      <td>1.857032</td>\n",
       "      <td>0</td>\n",
       "      <td>1</td>\n",
       "      <td>0</td>\n",
       "      <td>0</td>\n",
       "      <td>1</td>\n",
       "      <td>1</td>\n",
       "      <td>1</td>\n",
       "      <td>1</td>\n",
       "      <td>0</td>\n",
       "      <td>0</td>\n",
       "      <td>1</td>\n",
       "      <td>0</td>\n",
       "      <td>0</td>\n",
       "      <td>0</td>\n",
       "    </tr>\n",
       "    <tr>\n",
       "      <th>4</th>\n",
       "      <td>1</td>\n",
       "      <td>7.222060</td>\n",
       "      <td>0</td>\n",
       "      <td>1</td>\n",
       "      <td>0</td>\n",
       "      <td>0</td>\n",
       "      <td>1</td>\n",
       "      <td>1</td>\n",
       "      <td>0</td>\n",
       "      <td>0</td>\n",
       "      <td>0</td>\n",
       "      <td>0</td>\n",
       "      <td>1</td>\n",
       "      <td>0</td>\n",
       "      <td>0</td>\n",
       "      <td>0</td>\n",
       "    </tr>\n",
       "  </tbody>\n",
       "</table>\n",
       "</div>"
      ],
      "text/plain": [
       "   outcome  distance  visit_count  tier  fqhc  pcp_lookback  \\\n",
       "0        0  0.071912            0     2     0             0   \n",
       "1        0  0.448447            0     1     0             0   \n",
       "2        0  0.345793            0     1     0             1   \n",
       "3        0  1.857032            0     1     0             0   \n",
       "4        1  7.222060            0     1     0             0   \n",
       "\n",
       "   family_assignment  kid  is_ped  same_gender  same_language  same_address  \\\n",
       "0                  0    0       0            1              0             0   \n",
       "1                  1    1       1            0              0             0   \n",
       "2                  0    0       0            1              0             0   \n",
       "3                  1    1       1            1              0             0   \n",
       "4                  1    1       0            0              0             0   \n",
       "\n",
       "   tier_1  tier_2  tier_3  tier_4  \n",
       "0       0       1       0       0  \n",
       "1       1       0       0       0  \n",
       "2       1       0       0       0  \n",
       "3       1       0       0       0  \n",
       "4       1       0       0       0  "
      ]
     },
     "execution_count": 141,
     "metadata": {},
     "output_type": "execute_result"
    }
   ],
   "source": [
    "# pd.__version__\n",
    "cat_vars  = [\"tier\"]\n",
    "dft_dum=dft\n",
    "for var in cat_vars:\n",
    "    cat_list='var'+'_'+var\n",
    "    cat_list = pd.get_dummies(dft_dum[var], prefix=var)\n",
    "    dft1=dft_dum.join(cat_list)\n",
    "    dft_dum=dft1\n",
    "dft_dum.head()"
   ]
  },
  {
   "cell_type": "code",
   "execution_count": 142,
   "metadata": {},
   "outputs": [
    {
     "data": {
      "text/plain": [
       "array(['outcome', 'distance', 'visit_count', 'fqhc', 'pcp_lookback',\n",
       "       'family_assignment', 'kid', 'is_ped', 'same_gender',\n",
       "       'same_language', 'same_address', 'tier_1', 'tier_2', 'tier_3',\n",
       "       'tier_4'], dtype=object)"
      ]
     },
     "execution_count": 142,
     "metadata": {},
     "output_type": "execute_result"
    }
   ],
   "source": [
    "# drop original variables after creating the dummies\n",
    "data_vars=dft_dum.columns.values.tolist()\n",
    "to_keep=[i for i in data_vars if i not in cat_vars]\n",
    "dft1=dft_dum[to_keep]\n",
    "dft1.columns.values"
   ]
  },
  {
   "cell_type": "code",
   "execution_count": 143,
   "metadata": {},
   "outputs": [
    {
     "data": {
      "text/plain": [
       "array(['outcome', 'distance', 'visit_count', 'fqhc', 'pcp_lookback',\n",
       "       'family_assignment', 'kid', 'is_ped', 'same_gender',\n",
       "       'same_language', 'same_address', 'tier_2', 'tier_3', 'tier_4'],\n",
       "      dtype=object)"
      ]
     },
     "execution_count": 143,
     "metadata": {},
     "output_type": "execute_result"
    }
   ],
   "source": [
    "# drop_first=True did not work for reason, drop them manually\n",
    "data_vars=dft1.columns.values.tolist()\n",
    "drop_vars = ['tier_1']\n",
    "to_keep=[i for i in data_vars if i not in drop_vars]\n",
    "dft1=dft1[to_keep]\n",
    "dft1.columns.values"
   ]
  },
  {
   "cell_type": "code",
   "execution_count": 144,
   "metadata": {},
   "outputs": [],
   "source": [
    "# create dummies in scoring data as well\n",
    "cat_vars  = [\"tier\"]\n",
    "dfs_dum=dfs\n",
    "for var in cat_vars:\n",
    "    cat_list='var'+'_'+var\n",
    "    cat_list = pd.get_dummies(dfs_dum[var], prefix=var)\n",
    "    dfs1=dfs_dum.join(cat_list)\n",
    "    dfs_dum=dfs1"
   ]
  },
  {
   "cell_type": "markdown",
   "metadata": {},
   "source": [
    "##### Normalize data"
   ]
  },
  {
   "cell_type": "code",
   "execution_count": 180,
   "metadata": {},
   "outputs": [],
   "source": [
    "# separate input features and target data\n",
    "dft_X = dft1.loc[:, dft1.columns != 'outcome']\n",
    "dft_y = dft1.loc[:, dft1.columns == 'outcome']"
   ]
  },
  {
   "cell_type": "code",
   "execution_count": 195,
   "metadata": {},
   "outputs": [
    {
     "name": "stderr",
     "output_type": "stream",
     "text": [
      "C:\\Users\\gbhatt1\\AppData\\Local\\Continuum\\Anaconda3\\lib\\site-packages\\sklearn\\preprocessing\\data.py:645: DataConversionWarning: Data with input dtype uint8, int64, float64 were all converted to float64 by StandardScaler.\n",
      "  return self.partial_fit(X, y)\n"
     ]
    },
    {
     "data": {
      "text/plain": [
       "StandardScaler(copy=True, with_mean=True, with_std=True)"
      ]
     },
     "execution_count": 195,
     "metadata": {},
     "output_type": "execute_result"
    }
   ],
   "source": [
    "from sklearn import preprocessing\n",
    "# norm_minmax = preprocessing.MinMaxScaler()\n",
    "norm_std = preprocessing.StandardScaler()\n",
    "\n",
    "# Fit only to the training data\n",
    "#norm_minmax.fit(dft_X)\n",
    "norm_std.fit(dft_X)\n"
   ]
  },
  {
   "cell_type": "code",
   "execution_count": 196,
   "metadata": {},
   "outputs": [],
   "source": [
    "# Now apply the transformations to the data\n",
    "\n",
    "# transform training data\n",
    "xt = dft_X.values #returns a numpy array\n",
    "xt_scaled = norm_std.transform(xs)\n",
    "dftn_X = pd.DataFrame(xt_scaled, columns=dft_X.columns)\n",
    "\n",
    "# transform scoring data\n",
    "cols = ['distance', 'visit_count', 'fqhc', 'pcp_lookback', 'family_assignment', 'kid', 'is_ped',\n",
    "          'same_gender', 'same_language', 'same_address', 'tier_2', 'tier_3', 'tier_4']\n",
    "dfs_X = dfs_dum[cols]\n",
    "xs = dfs_X.values #returns a numpy array\n",
    "xs_scaled = norm_std.transform(xs)\n",
    "dfsn_X = pd.DataFrame(xs_scaled, columns=dfs_X.columns)"
   ]
  },
  {
   "cell_type": "code",
   "execution_count": 198,
   "metadata": {},
   "outputs": [
    {
     "name": "stdout",
     "output_type": "stream",
     "text": [
      "Index(['distance', 'visit_count', 'fqhc', 'pcp_lookback', 'family_assignment',\n",
      "       'kid', 'is_ped', 'same_gender', 'same_language', 'same_address',\n",
      "       'tier_2', 'tier_3', 'tier_4'],\n",
      "      dtype='object')\n"
     ]
    }
   ],
   "source": [
    "print(dftn_X.columns)"
   ]
  },
  {
   "cell_type": "markdown",
   "metadata": {},
   "source": [
    "#### Feature engineering"
   ]
  },
  {
   "cell_type": "markdown",
   "metadata": {},
   "source": [
    "##### Oversampling using SMOTE"
   ]
  },
  {
   "cell_type": "code",
   "execution_count": 199,
   "metadata": {},
   "outputs": [],
   "source": [
    "# oversample minority data during train/test split\n",
    "from imblearn.over_sampling import SMOTE\n",
    "from sklearn.model_selection import train_test_split\n",
    "\n",
    "X_train,X_test,y_train,y_test=train_test_split(dftn_X, dftn_y, test_size=0.3, random_state=0)\n",
    "\n",
    "sm = SMOTE(random_state=2)\n",
    "X_train, y_train = sm.fit_sample(X_train, y_train.values.ravel())"
   ]
  },
  {
   "cell_type": "markdown",
   "metadata": {},
   "source": [
    "##### grid search for lamda (lasso logistic regression using full data)"
   ]
  },
  {
   "cell_type": "code",
   "execution_count": 200,
   "metadata": {},
   "outputs": [
    {
     "data": {
      "text/plain": [
       "(0.0001, 0.31622776601683794)"
      ]
     },
     "execution_count": 200,
     "metadata": {},
     "output_type": "execute_result"
    },
    {
     "data": {
      "image/png": "[encoded data removed]",
      "text/plain": [
       "<matplotlib.figure.Figure at 0x10ff9978>"
      ]
     },
     "metadata": {
      "needs_background": "light"
     },
     "output_type": "display_data"
    }
   ],
   "source": [
    "# code source: https://scikit-learn.org/stable/auto_examples/exercises/plot_cv_diabetes.html\n",
    "\n",
    "# this part uses full training data without train/test split\n",
    "sm = SMOTE(random_state=2)\n",
    "X, y = sm.fit_sample(dftn_X, dftn_y.values.ravel())\n",
    "\n",
    "from sklearn import datasets\n",
    "from sklearn.linear_model import LassoCV\n",
    "from sklearn.linear_model import Lasso\n",
    "from sklearn.model_selection import KFold\n",
    "from sklearn.model_selection import GridSearchCV\n",
    "from sklearn.linear_model import LogisticRegression\n",
    "\n",
    "lasso = Lasso(random_state=0)\n",
    "alphas = np.logspace(-4, -0.5, 30)\n",
    "\n",
    "tuned_parameters = [{'alpha': alphas}]\n",
    "n_folds = 5\n",
    "\n",
    "clf = GridSearchCV(lasso, tuned_parameters, cv=n_folds, refit=False)\n",
    "clf.fit(X, y)\n",
    "scores = clf.cv_results_['mean_test_score']\n",
    "scores_std = clf.cv_results_['std_test_score']\n",
    "plt.figure().set_size_inches(8, 6)\n",
    "plt.semilogx(alphas, scores)\n",
    "\n",
    "# plot error lines showing +/- std. errors of the scores\n",
    "std_error = scores_std / np.sqrt(n_folds)\n",
    "\n",
    "plt.semilogx(alphas, scores + std_error, 'b--')\n",
    "plt.semilogx(alphas, scores - std_error, 'b--')\n",
    "\n",
    "# alpha=0.2 controls the translucency of the fill color\n",
    "plt.fill_between(alphas, scores + std_error, scores - std_error, alpha=0.2)\n",
    "\n",
    "plt.ylabel('CV score +/- std error')\n",
    "plt.xlabel('alpha')\n",
    "plt.axhline(np.max(scores), linestyle='--', color='.5')\n",
    "plt.xlim([alphas[0], alphas[-1]])"
   ]
  },
  {
   "cell_type": "code",
   "execution_count": 201,
   "metadata": {},
   "outputs": [
    {
     "name": "stdout",
     "output_type": "stream",
     "text": [
      "training score: 0.0\n",
      "test score:  -5.316509262738544\n",
      "number of features used:  0\n",
      "training score for alpha=0.0001: 0.19682313518063954\n",
      "test score for alpha =0.0001:  -3.9289890895244977\n",
      "number of features used: for alpha =0.0001: 13\n"
     ]
    }
   ],
   "source": [
    "# score the error rate using the above lamda on train/test split\n",
    "lasso = Lasso()\n",
    "lasso.fit(X_train,y_train)\n",
    "train_score=lasso.score(X_train,y_train)\n",
    "test_score=lasso.score(X_test,y_test)\n",
    "coeff_used = np.sum(lasso.coef_!=0)\n",
    "print (\"training score:\", train_score )\n",
    "print (\"test score: \", test_score)\n",
    "print (\"number of features used: \", coeff_used)\n",
    "\n",
    "lasso0001 = Lasso(alpha=0.0001, max_iter=10e5)\n",
    "lasso0001.fit(X_train,y_train)\n",
    "train_score0001=lasso0001.score(X_train,y_train)\n",
    "test_score0001=lasso0001.score(X_test,y_test)\n",
    "coeff_used0001 = np.sum(lasso0001.coef_!=0)\n",
    "print (\"training score for alpha=0.0001:\", train_score0001 )\n",
    "print (\"test score for alpha =0.0001: \", test_score0001)\n",
    "print (\"number of features used: for alpha =0.0001:\", coeff_used0001)"
   ]
  },
  {
   "cell_type": "markdown",
   "metadata": {},
   "source": [
    "##### Lasso logistic regression"
   ]
  },
  {
   "cell_type": "code",
   "execution_count": 202,
   "metadata": {},
   "outputs": [
    {
     "name": "stdout",
     "output_type": "stream",
     "text": [
      "Lasso output:\n",
      " [[ 0.41889388]\n",
      " [ 0.29454851]\n",
      " [-0.31009464]\n",
      " [-0.90279266]\n",
      " [-0.06887529]\n",
      " [ 0.85142507]\n",
      " [-0.73484495]\n",
      " [ 0.06320781]\n",
      " [-0.03492103]\n",
      " [ 0.26598214]\n",
      " [ 0.06493635]\n",
      " [ 0.21519842]\n",
      " [ 0.15397638]]\n"
     ]
    }
   ],
   "source": [
    "log = LogisticRegression(penalty='l2', solver='lbfgs')\n",
    "log.fit(dftn_X, dftn_y.values.ravel())\n",
    "thetaLasso=log.coef_\n",
    "print(\"Lasso output:\\n\",thetaLasso.reshape(13,1))"
   ]
  },
  {
   "cell_type": "markdown",
   "metadata": {},
   "source": [
    "##### Tree Classifier Selection"
   ]
  },
  {
   "cell_type": "code",
   "execution_count": 203,
   "metadata": {},
   "outputs": [
    {
     "name": "stdout",
     "output_type": "stream",
     "text": [
      "[0.74889874 0.07412637 0.00836045 0.05961944 0.01185326 0.02001487\n",
      " 0.02562835 0.0117599  0.00578123 0.01023338 0.009449   0.00765806\n",
      " 0.00661695]\n"
     ]
    }
   ],
   "source": [
    "# Feature Importance using RandomForestClassifier (alternate is ExtraTreesClassifier)\n",
    "from sklearn import metrics\n",
    "\n",
    "# from sklearn.ensemble import ExtraTreesClassifier\n",
    "# model = ExtraTreesClassifier()\n",
    "\n",
    "from sklearn.ensemble import RandomForestClassifier\n",
    "model = RandomForestClassifier(n_estimators=100)\n",
    "\n",
    "model.fit(dftn_X, dftn_y.values.ravel())\n",
    "print(model.feature_importances_)"
   ]
  },
  {
   "cell_type": "code",
   "execution_count": 204,
   "metadata": {},
   "outputs": [
    {
     "data": {
      "text/plain": [
       "<matplotlib.axes._subplots.AxesSubplot at 0x14878438>"
      ]
     },
     "execution_count": 204,
     "metadata": {},
     "output_type": "execute_result"
    },
    {
     "data": {
      "image/png": "[encoded data removed]",
      "text/plain": [
       "<matplotlib.figure.Figure at 0x14872128>"
      ]
     },
     "metadata": {
      "needs_background": "light"
     },
     "output_type": "display_data"
    }
   ],
   "source": [
    "# plot the feature importance\n",
    "%matplotlib inline \n",
    "plt.rcParams[\"figure.figsize\"] = (10,6)\n",
    "(pd.Series(model.feature_importances_, index=dftn_X.columns)\n",
    "   .nlargest(13)\n",
    "   .plot(kind='barh')) "
   ]
  },
  {
   "cell_type": "markdown",
   "metadata": {},
   "source": [
    "##### Recursive feature extraction (logistic regression)"
   ]
  },
  {
   "cell_type": "code",
   "execution_count": 205,
   "metadata": {
    "scrolled": true
   },
   "outputs": [
    {
     "name": "stdout",
     "output_type": "stream",
     "text": [
      "[False False False False False  True False False False False False False\n",
      " False]\n",
      "[ 4  6  5  3 10  1  2 12 13  7 11  8  9]\n"
     ]
    }
   ],
   "source": [
    "# create the RFE model and select top K attributes\n",
    "\n",
    "from sklearn.feature_selection import RFE\n",
    "from sklearn.linear_model import LogisticRegression\n",
    "logreg = LogisticRegression(solver='lbfgs')\n",
    "rfe = RFE(logreg, 1)\n",
    "rfe = rfe.fit(dftn_X, dftn_y.values.ravel())\n",
    "\n",
    "# summarize the selection of the attributes\n",
    "print(rfe.support_)\n",
    "print(rfe.ranking_)"
   ]
  },
  {
   "cell_type": "markdown",
   "metadata": {},
   "source": [
    "##### Final data"
   ]
  },
  {
   "cell_type": "code",
   "execution_count": 206,
   "metadata": {},
   "outputs": [],
   "source": [
    "# keep selected list of features from both methods (\"same_language\" is not selected)\n",
    "cols = ['distance', 'visit_count', 'fqhc', 'pcp_lookback', 'family_assignment', 'kid', 'is_ped',\n",
    "        'same_gender', 'same_language', 'same_address', 'tier_2', 'tier_3', 'tier_4']\n",
    "colx = ['distance', 'visit_count', 'fqhc', 'pcp_lookback', 'family_assignment', 'kid', 'is_ped',\n",
    "        'same_gender', 'same_address', 'tier_2', 'tier_3', 'tier_4'] # drop same language"
   ]
  },
  {
   "cell_type": "code",
   "execution_count": 207,
   "metadata": {},
   "outputs": [],
   "source": [
    "#dfint_X = dftn_X[cols]\n",
    "dfint_X = dftn_X[colx]\n",
    "dfint_y = dftn_y"
   ]
  },
  {
   "cell_type": "code",
   "execution_count": 208,
   "metadata": {},
   "outputs": [],
   "source": [
    "# repeat oversampling\n",
    "from imblearn.over_sampling import SMOTE\n",
    "from sklearn.model_selection import train_test_split\n",
    "\n",
    "X_train,X_test,y_train,y_test=train_test_split(dfint_X, dfint_y, test_size=0.3, random_state=0)\n",
    "\n",
    "sm = SMOTE(random_state=2)\n",
    "X_train, y_train = sm.fit_sample(X_train, y_train.values.ravel())"
   ]
  },
  {
   "cell_type": "code",
   "execution_count": 209,
   "metadata": {},
   "outputs": [],
   "source": [
    "# scikit-learn metrics for model performance for binary classifiers\n",
    "from sklearn import metrics\n",
    "from sklearn.metrics import confusion_matrix\n",
    "from sklearn.metrics import classification_report\n",
    "from sklearn.metrics import roc_auc_score\n",
    "from sklearn.metrics import roc_curve"
   ]
  },
  {
   "cell_type": "markdown",
   "metadata": {},
   "source": [
    "#### Logistic Regression"
   ]
  },
  {
   "cell_type": "code",
   "execution_count": 210,
   "metadata": {},
   "outputs": [
    {
     "name": "stdout",
     "output_type": "stream",
     "text": [
      "Optimization terminated successfully.\n",
      "         Current function value: 0.599477\n",
      "         Iterations 6\n",
      "                          Results: Logit\n",
      "==================================================================\n",
      "Model:              Logit            No. Iterations:   6.0000     \n",
      "Dependent Variable: y                Pseudo R-squared: 0.135      \n",
      "Date:               2019-04-25 16:58 AIC:              268160.5690\n",
      "No. Observations:   223642           BIC:              268284.3827\n",
      "Df Model:           11               Log-Likelihood:   -1.3407e+05\n",
      "Df Residuals:       223630           LL-Null:          -1.5502e+05\n",
      "Converged:          1.0000           Scale:            1.0000     \n",
      "--------------------------------------------------------------------\n",
      "          Coef.    Std.Err.       z       P>|z|     [0.025    0.975]\n",
      "--------------------------------------------------------------------\n",
      "x1        0.3898     0.0048     80.8289   0.0000    0.3803    0.3992\n",
      "x2        0.2771     0.0052     53.3473   0.0000    0.2669    0.2873\n",
      "x3       -0.2591     0.0052    -49.6468   0.0000   -0.2693   -0.2489\n",
      "x4       -0.5964     0.0050   -119.3757   0.0000   -0.6062   -0.5866\n",
      "x5       -0.0187     0.0049     -3.7711   0.0002   -0.0284   -0.0090\n",
      "x6        0.5551     0.0094     58.7485   0.0000    0.5366    0.5737\n",
      "x7       -0.4338     0.0096    -45.3596   0.0000   -0.4526   -0.4151\n",
      "x8        0.0201     0.0047      4.3101   0.0000    0.0110    0.0293\n",
      "x9        0.2225     0.0042     53.0395   0.0000    0.2143    0.2307\n",
      "x10       0.0424     0.0050      8.4281   0.0000    0.0325    0.0522\n",
      "x11       0.1803     0.0047     38.4163   0.0000    0.1711    0.1895\n",
      "x12       0.1301     0.0045     28.8829   0.0000    0.1213    0.1389\n",
      "==================================================================\n",
      "\n"
     ]
    }
   ],
   "source": [
    "# simple logistic regression with statsmodel\n",
    "import statsmodels.api as sm\n",
    "logit_model = sm.Logit(y_train, X_train)\n",
    "result = logit_model.fit()\n",
    "print(result.summary2())"
   ]
  },
  {
   "cell_type": "code",
   "execution_count": 211,
   "metadata": {},
   "outputs": [
    {
     "data": {
      "text/plain": [
       "LogisticRegression(C=1.0, class_weight=None, dual=False, fit_intercept=True,\n",
       "          intercept_scaling=1, max_iter=100, multi_class='warn',\n",
       "          n_jobs=None, penalty='l2', random_state=None, solver='lbfgs',\n",
       "          tol=0.0001, verbose=0, warm_start=False)"
      ]
     },
     "execution_count": 211,
     "metadata": {},
     "output_type": "execute_result"
    }
   ],
   "source": [
    "# logistic regression model fitting\n",
    "from sklearn.linear_model import LogisticRegression\n",
    "logreg = LogisticRegression(solver='lbfgs')\n",
    "logreg.fit(X_train, y_train)"
   ]
  },
  {
   "cell_type": "code",
   "execution_count": 212,
   "metadata": {},
   "outputs": [
    {
     "name": "stdout",
     "output_type": "stream",
     "text": [
      "Accuracy of LR classifier on test set: 0.708\n"
     ]
    }
   ],
   "source": [
    "# predicting the test set results and calculating the accuracy\n",
    "y_pred = logreg.predict(X_test)\n",
    "lgr_accuracy=logreg.score(X_test, y_test)\n",
    "print('Accuracy of LR classifier on test set: {:.3f}'.format(lgr_accuracy))"
   ]
  },
  {
   "cell_type": "code",
   "execution_count": 213,
   "metadata": {},
   "outputs": [
    {
     "name": "stdout",
     "output_type": "stream",
     "text": [
      "AUC of LR classifier on test set: 0.700\n"
     ]
    }
   ],
   "source": [
    "# ROC curve (calculation and visualization)\n",
    "lgr_roc_auc = roc_auc_score(y_test, logreg.predict(X_test))\n",
    "print('AUC of LR classifier on test set: {:.3f}'.format(lgr_roc_auc))"
   ]
  },
  {
   "cell_type": "code",
   "execution_count": 214,
   "metadata": {},
   "outputs": [
    {
     "data": {
      "image/png": "[encoded data removed]",
      "text/plain": [
       "<matplotlib.figure.Figure at 0x1489c7b8>"
      ]
     },
     "metadata": {
      "needs_background": "light"
     },
     "output_type": "display_data"
    }
   ],
   "source": [
    "# display roc curve\n",
    "fpr, tpr, thresholds = roc_curve(y_test, logreg.predict_proba(X_test)[:,1])\n",
    "plt.figure()\n",
    "plt.plot(fpr, tpr, label='Logistic Regression (area = %0.2f)' % lgr_roc_auc)\n",
    "plt.plot([0, 1], [0, 1],'r--')\n",
    "plt.xlim([0.0, 1.0])\n",
    "plt.ylim([0.0, 1.05])\n",
    "plt.xlabel('False Positive Rate')\n",
    "plt.ylabel('True Positive Rate')\n",
    "plt.title('Receiver operating characteristic')\n",
    "plt.legend(loc=\"lower right\")\n",
    "plt.savefig('Log_ROC')\n",
    "plt.show()"
   ]
  },
  {
   "cell_type": "markdown",
   "metadata": {},
   "source": [
    "##### Artificial Neural Network"
   ]
  },
  {
   "cell_type": "code",
   "execution_count": 215,
   "metadata": {},
   "outputs": [
    {
     "data": {
      "text/plain": [
       "MLPClassifier(activation='relu', alpha=0.0001, batch_size='auto', beta_1=0.9,\n",
       "       beta_2=0.999, early_stopping=False, epsilon=1e-08,\n",
       "       hidden_layer_sizes=(13, 13, 13), learning_rate='constant',\n",
       "       learning_rate_init=0.001, max_iter=500, momentum=0.9,\n",
       "       n_iter_no_change=10, nesterovs_momentum=True, power_t=0.5,\n",
       "       random_state=None, shuffle=True, solver='adam', tol=0.0001,\n",
       "       validation_fraction=0.1, verbose=False, warm_start=False)"
      ]
     },
     "execution_count": 215,
     "metadata": {},
     "output_type": "execute_result"
    }
   ],
   "source": [
    "from sklearn.neural_network import MLPClassifier\n",
    "mlp = MLPClassifier(hidden_layer_sizes=(13,13,13),max_iter=500)\n",
    "mlp.fit(X_train,y_train)"
   ]
  },
  {
   "cell_type": "code",
   "execution_count": 216,
   "metadata": {},
   "outputs": [
    {
     "name": "stdout",
     "output_type": "stream",
     "text": [
      "Accuracy of ANN classifier on test set: 0.821\n"
     ]
    }
   ],
   "source": [
    "# predict and calculate accuracy\n",
    "y_pred = mlp.predict(X_test)\n",
    "mlp_accuracy = mlp.score(X_test, y_test)\n",
    "print('Accuracy of ANN classifier on test set: {:.3f}'.format(mlp_accuracy))"
   ]
  },
  {
   "cell_type": "code",
   "execution_count": 217,
   "metadata": {},
   "outputs": [
    {
     "name": "stdout",
     "output_type": "stream",
     "text": [
      "AUC of MLP classifier on test set: 0.738\n"
     ]
    }
   ],
   "source": [
    "# ROC curve (calculation only)\n",
    "mlp_roc_auc = roc_auc_score(y_test, mlp.predict(X_test))\n",
    "print('AUC of MLP classifier on test set: {:.3f}'.format(mlp_roc_auc))"
   ]
  },
  {
   "cell_type": "markdown",
   "metadata": {},
   "source": [
    "##### Classification and regression tree"
   ]
  },
  {
   "cell_type": "code",
   "execution_count": 218,
   "metadata": {
    "scrolled": false
   },
   "outputs": [
    {
     "data": {
      "text/plain": [
       "DecisionTreeClassifier(class_weight=None, criterion='gini', max_depth=3,\n",
       "            max_features=None, max_leaf_nodes=None,\n",
       "            min_impurity_decrease=0.0, min_impurity_split=None,\n",
       "            min_samples_leaf=5, min_samples_split=2,\n",
       "            min_weight_fraction_leaf=0.0, presort=False, random_state=100,\n",
       "            splitter='best')"
      ]
     },
     "execution_count": 218,
     "metadata": {},
     "output_type": "execute_result"
    }
   ],
   "source": [
    "from sklearn.tree import DecisionTreeClassifier\n",
    "from sklearn import tree\n",
    "crt_classifier = DecisionTreeClassifier(criterion = \"gini\", \n",
    "                                        random_state = 100, max_depth=3, min_samples_leaf=5)\n",
    "#cartclassifier = DecisionTreeClassifier(criterion = \"entropy\", \n",
    "#                                       random_state = 100, max_depth=3, min_samples_leaf=5)\n",
    "crt_classifier.fit(X_train, y_train)"
   ]
  },
  {
   "cell_type": "code",
   "execution_count": 219,
   "metadata": {},
   "outputs": [
    {
     "name": "stdout",
     "output_type": "stream",
     "text": [
      "Accuracy of CART classifier on test set: 0.860\n"
     ]
    }
   ],
   "source": [
    "# predict and calculate accuracy\n",
    "y_pred = crt_classifier.predict(X_test)\n",
    "crt_accuracy = crt_classifier.score(X_test, y_test)\n",
    "print('Accuracy of CART classifier on test set: {:.3f}'.format(crt_accuracy))"
   ]
  },
  {
   "cell_type": "code",
   "execution_count": 220,
   "metadata": {},
   "outputs": [
    {
     "name": "stdout",
     "output_type": "stream",
     "text": [
      "AUC of CART classifier on test set: 0.733\n"
     ]
    }
   ],
   "source": [
    "# ROC curve (calculation only)\n",
    "crt_roc_auc = roc_auc_score(y_test, crt_classifier.predict(X_test))\n",
    "print('AUC of CART classifier on test set: {:.3f}'.format(crt_roc_auc))"
   ]
  },
  {
   "cell_type": "code",
   "execution_count": 221,
   "metadata": {},
   "outputs": [
    {
     "name": "stdout",
     "output_type": "stream",
     "text": [
      "SUMMARY OF ACCURACY RESULT ON TEST SET\n",
      "\n",
      "Logistic Regression Classifier\n",
      "  Accuracy      : 0.708\n",
      "  ROC-AUC       : 0.700\n",
      "\n",
      "Artificial Neural Network\n",
      "  Accuracy      : 0.821\n",
      "  ROC-AUC       : 0.738\n",
      "\n",
      "Decision Tree Classifier\n",
      "  Accuracy      : 0.860\n",
      "  ROC-AUC       : 0.733\n"
     ]
    }
   ],
   "source": [
    "print('SUMMARY OF ACCURACY RESULT ON TEST SET')\n",
    "print()\n",
    "print('Logistic Regression Classifier')\n",
    "print('  Accuracy      : {:.3f}'.format(lgr_accuracy))\n",
    "print('  ROC-AUC       : {:.3f}'.format(lgr_roc_auc))\n",
    "print()\n",
    "print('Artificial Neural Network')\n",
    "print('  Accuracy      : {:.3f}'.format(mlp_accuracy))\n",
    "print('  ROC-AUC       : {:.3f}'.format(mlp_roc_auc))\n",
    "print()\n",
    "print('Decision Tree Classifier')\n",
    "print('  Accuracy      : {:.3f}'.format(crt_accuracy))\n",
    "print('  ROC-AUC       : {:.3f}'.format(crt_roc_auc))"
   ]
  },
  {
   "cell_type": "markdown",
   "metadata": {},
   "source": [
    "##### Score the scoring data"
   ]
  },
  {
   "cell_type": "code",
   "execution_count": 222,
   "metadata": {},
   "outputs": [
    {
     "data": {
      "text/plain": [
       "(71388, 13)"
      ]
     },
     "execution_count": 222,
     "metadata": {},
     "output_type": "execute_result"
    }
   ],
   "source": [
    "dfsn_X.shape"
   ]
  },
  {
   "cell_type": "code",
   "execution_count": 223,
   "metadata": {},
   "outputs": [],
   "source": [
    "dfins_X = dfsn_X[colx]"
   ]
  },
  {
   "cell_type": "code",
   "execution_count": 224,
   "metadata": {},
   "outputs": [
    {
     "name": "stdout",
     "output_type": "stream",
     "text": [
      "[0 1 1 ... 0 0 1]\n"
     ]
    }
   ],
   "source": [
    "# predict using the best model\n",
    "# ANN : MLP\n",
    "dfsn_scr = mlp.predict(dfins_X)\n",
    "print(dfsn_scr)"
   ]
  },
  {
   "cell_type": "code",
   "execution_count": 225,
   "metadata": {},
   "outputs": [
    {
     "data": {
      "text/html": [
       "<div>\n",
       "<style>\n",
       "    .dataframe thead tr:only-child th {\n",
       "        text-align: right;\n",
       "    }\n",
       "\n",
       "    .dataframe thead th {\n",
       "        text-align: left;\n",
       "    }\n",
       "\n",
       "    .dataframe tbody tr th {\n",
       "        vertical-align: top;\n",
       "    }\n",
       "</style>\n",
       "<table border=\"1\" class=\"dataframe\">\n",
       "  <thead>\n",
       "    <tr style=\"text-align: right;\">\n",
       "      <th></th>\n",
       "      <th>Predicted</th>\n",
       "      <th>testindex</th>\n",
       "      <th>distance</th>\n",
       "      <th>visit_count</th>\n",
       "      <th>claims_daysaway</th>\n",
       "      <th>tier</th>\n",
       "      <th>fqhc</th>\n",
       "      <th>pcp_lookback</th>\n",
       "      <th>family_assignment</th>\n",
       "      <th>kid</th>\n",
       "      <th>is_ped</th>\n",
       "      <th>same_gender</th>\n",
       "      <th>same_language</th>\n",
       "      <th>same_address</th>\n",
       "    </tr>\n",
       "  </thead>\n",
       "  <tbody>\n",
       "    <tr>\n",
       "      <th>0</th>\n",
       "      <td>0</td>\n",
       "      <td>1</td>\n",
       "      <td>0.245254</td>\n",
       "      <td>0</td>\n",
       "      <td>NaN</td>\n",
       "      <td>1</td>\n",
       "      <td>1</td>\n",
       "      <td>0</td>\n",
       "      <td>0</td>\n",
       "      <td>1</td>\n",
       "      <td>1</td>\n",
       "      <td>1</td>\n",
       "      <td>0</td>\n",
       "      <td>0</td>\n",
       "    </tr>\n",
       "    <tr>\n",
       "      <th>1</th>\n",
       "      <td>1</td>\n",
       "      <td>3</td>\n",
       "      <td>2.200397</td>\n",
       "      <td>0</td>\n",
       "      <td>NaN</td>\n",
       "      <td>3</td>\n",
       "      <td>0</td>\n",
       "      <td>0</td>\n",
       "      <td>1</td>\n",
       "      <td>1</td>\n",
       "      <td>1</td>\n",
       "      <td>0</td>\n",
       "      <td>0</td>\n",
       "      <td>0</td>\n",
       "    </tr>\n",
       "    <tr>\n",
       "      <th>2</th>\n",
       "      <td>1</td>\n",
       "      <td>4</td>\n",
       "      <td>6.542807</td>\n",
       "      <td>0</td>\n",
       "      <td>NaN</td>\n",
       "      <td>2</td>\n",
       "      <td>0</td>\n",
       "      <td>0</td>\n",
       "      <td>0</td>\n",
       "      <td>0</td>\n",
       "      <td>0</td>\n",
       "      <td>0</td>\n",
       "      <td>0</td>\n",
       "      <td>0</td>\n",
       "    </tr>\n",
       "    <tr>\n",
       "      <th>3</th>\n",
       "      <td>0</td>\n",
       "      <td>8</td>\n",
       "      <td>0.094251</td>\n",
       "      <td>0</td>\n",
       "      <td>NaN</td>\n",
       "      <td>1</td>\n",
       "      <td>1</td>\n",
       "      <td>0</td>\n",
       "      <td>1</td>\n",
       "      <td>0</td>\n",
       "      <td>0</td>\n",
       "      <td>1</td>\n",
       "      <td>0</td>\n",
       "      <td>0</td>\n",
       "    </tr>\n",
       "    <tr>\n",
       "      <th>4</th>\n",
       "      <td>0</td>\n",
       "      <td>20</td>\n",
       "      <td>0.521691</td>\n",
       "      <td>0</td>\n",
       "      <td>NaN</td>\n",
       "      <td>3</td>\n",
       "      <td>0</td>\n",
       "      <td>0</td>\n",
       "      <td>1</td>\n",
       "      <td>1</td>\n",
       "      <td>1</td>\n",
       "      <td>0</td>\n",
       "      <td>0</td>\n",
       "      <td>0</td>\n",
       "    </tr>\n",
       "  </tbody>\n",
       "</table>\n",
       "</div>"
      ],
      "text/plain": [
       "   Predicted  testindex  distance  visit_count  claims_daysaway  tier  fqhc  \\\n",
       "0          0          1  0.245254            0              NaN     1     1   \n",
       "1          1          3  2.200397            0              NaN     3     0   \n",
       "2          1          4  6.542807            0              NaN     2     0   \n",
       "3          0          8  0.094251            0              NaN     1     1   \n",
       "4          0         20  0.521691            0              NaN     3     0   \n",
       "\n",
       "   pcp_lookback  family_assignment  kid  is_ped  same_gender  same_language  \\\n",
       "0             0                  0    1       1            1              0   \n",
       "1             0                  1    1       1            0              0   \n",
       "2             0                  0    0       0            0              0   \n",
       "3             0                  1    0       0            1              0   \n",
       "4             0                  1    1       1            0              0   \n",
       "\n",
       "   same_address  \n",
       "0             0  \n",
       "1             0  \n",
       "2             0  \n",
       "3             0  \n",
       "4             0  "
      ]
     },
     "execution_count": 225,
     "metadata": {},
     "output_type": "execute_result"
    }
   ],
   "source": [
    "df_l = pd.DataFrame(dfsn_scr, columns=['Predicted']) \n",
    "df_a = pd.DataFrame(dfs)\n",
    "dfx = pd.concat([df_l, df_a], axis=1)\n",
    "dfx.head()"
   ]
  },
  {
   "cell_type": "code",
   "execution_count": 226,
   "metadata": {},
   "outputs": [
    {
     "data": {
      "image/png": "[encoded data removed]",
      "text/plain": [
       "<matplotlib.figure.Figure at 0x1486bcc0>"
      ]
     },
     "metadata": {
      "needs_background": "light"
     },
     "output_type": "display_data"
    }
   ],
   "source": [
    "%matplotlib inline\n",
    "dfx['Predicted'].value_counts()\n",
    "sb.countplot(x='Predicted', data=dfx, palette='hls')\n",
    "plt.show()"
   ]
  },
  {
   "cell_type": "code",
   "execution_count": 227,
   "metadata": {},
   "outputs": [
    {
     "name": "stdout",
     "output_type": "stream",
     "text": [
      "percentage of no switch is:  80.6452064772791\n",
      "percentage of switched is:  19.354793522720907\n"
     ]
    }
   ],
   "source": [
    "# Check % distribution\n",
    "count_hd0 = len(dfx[dfx['Predicted']==0])\n",
    "count_hd1 = len(dfx[dfx['Predicted']==1])\n",
    "pct_hd0 = count_hd0/(count_hd0 + count_hd1)\n",
    "print(\"percentage of no switch is: \", pct_hd0 * 100)\n",
    "pct_hd1 = count_hd1/(count_hd0 + count_hd1)\n",
    "print(\"percentage of switched is: \", pct_hd1 * 100)"
   ]
  },
  {
   "cell_type": "code",
   "execution_count": 228,
   "metadata": {},
   "outputs": [],
   "source": [
    "dfx.to_csv(\"scored_info.csv\", encoding='utf-8', index=False)"
   ]
  },
  {
   "cell_type": "code",
   "execution_count": 229,
   "metadata": {},
   "outputs": [
    {
     "data": {
      "text/plain": [
       "(71388, 14)"
      ]
     },
     "execution_count": 229,
     "metadata": {},
     "output_type": "execute_result"
    }
   ],
   "source": [
    "dfx.shape"
   ]
  },
  {
   "cell_type": "code",
   "execution_count": null,
   "metadata": {},
   "outputs": [],
   "source": []
  }
 ],
 "metadata": {
  "kernelspec": {
   "display_name": "Python 3",
   "language": "python",
   "name": "python3"
  },
  "language_info": {
   "codemirror_mode": {
    "name": "ipython",
    "version": 3
   },
   "file_extension": ".py",
   "mimetype": "text/x-python",
   "name": "python",
   "nbconvert_exporter": "python",
   "pygments_lexer": "ipython3",
   "version": "3.6.8"
  }
 },
 "nbformat": 4,
 "nbformat_minor": 2
}
